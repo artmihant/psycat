{
 "cells": [
  {
   "cell_type": "code",
   "execution_count": 2,
   "metadata": {},
   "outputs": [],
   "source": [
    "import json\n",
    "import pandas as pd\n",
    "from typing import TypedDict\n",
    "from datetime import datetime\n",
    "import numpy as np\n",
    "import matplotlib.pyplot as plt\n",
    "from scipy.stats import lognorm, spearmanr,pearsonr,  mannwhitneyu, wilcoxon, ttest_rel"
   ]
  },
  {
   "cell_type": "code",
   "execution_count": 3,
   "metadata": {},
   "outputs": [
    {
     "data": {
      "text/plain": [
       "33"
      ]
     },
     "execution_count": 3,
     "metadata": {},
     "output_type": "execute_result"
    }
   ],
   "source": [
    "raw_data_json_path = '/home/artem/Projects/Psycat/data.json'\n",
    "with open(raw_data_json_path, 'r') as rf:\n",
    "    data = json.load(rf)\n",
    "\n",
    "len(data.keys())"
   ]
  },
  {
   "cell_type": "code",
   "execution_count": 4,
   "metadata": {},
   "outputs": [],
   "source": [
    "data_f1 = {}\n",
    "\n",
    "for key in data:\n",
    "    if  data[key].get('gilbert_test_passed') == 'yes': \n",
    "        data_f1[key] = data[key]\n",
    "\n"
   ]
  },
  {
   "cell_type": "code",
   "execution_count": 5,
   "metadata": {},
   "outputs": [
    {
     "name": "stdout",
     "output_type": "stream",
     "text": [
      "{'reaction_time': 549, 'answer': 'r', 'direction': 'r', 'position': 3, 'correctly': True}\n"
     ]
    }
   ],
   "source": [
    "class GilbertSeries(TypedDict):\n",
    "    ans_a: int\n",
    "    mean_a: float\n",
    "    std_a: float\n",
    "    mean_r: float\n",
    "    ans_r: float\n",
    "    std_r: float\n",
    "    mean_l: float\n",
    "    ans_l: float\n",
    "    std_l: float\n",
    "    ground: str\n",
    "    target: str\n",
    "    figure: str\n",
    "\n",
    "\n",
    "class StroopSeries(TypedDict):\n",
    "    count_a: int\n",
    "    mean_a: float\n",
    "    std_a: float\n",
    "    count_r: float\n",
    "    mean_r: float\n",
    "    std_r: float\n",
    "    count_l: float\n",
    "    mean_l: float\n",
    "    std_l: float\n",
    "\n",
    "\n",
    "class RowStructure(TypedDict):\n",
    "    code: str\n",
    "    name: str\n",
    "    datetime: datetime\n",
    "    gilbert_test_results: list[GilbertSeries]\n",
    "    stroop_test_results: list[StroopSeries]\n",
    "\n",
    "print(data_f1['069632:bold_wheat_elephant']['gilbert_test_results'][0]['tests'][0])"
   ]
  },
  {
   "cell_type": "code",
   "execution_count": 6,
   "metadata": {},
   "outputs": [],
   "source": [
    "colors = {\n",
    "    '#b2b2b2': 'back',\n",
    "    '#929292': 'grey',\n",
    "    '#000000': 'black',\n",
    "\n",
    "    'color(display-p3 0.9111 0.2904 0.3331)': 'r',\n",
    "    'color(display-p3 0.8886 0.2848 0.5066)': 'red-in-pink',\n",
    "    'color(display-p3 0.907 0.3246 0.0816)': 'red-out-orange',\n",
    "\n",
    "    'color(display-p3 0.8675 0.7351 0.0446)': 'y',\n",
    "    'color(display-p3 0.9686 0.67 0.1156)': 'yellow-in-orange',\n",
    "    'color(display-p3 0.7347 0.7951 0.2312)': 'yellow-out-green',\n",
    "\n",
    "    'color(display-p3 0.0772 0.7146 0.7601)': 'b',\n",
    "    'color(display-p3 0.2086 0.6784 0.8873)': 'blue-in-violet',\n",
    "    'color(display-p3 0.2336 0.727 0.5989)': 'blue-out-green',\n",
    "\n",
    "}"
   ]
  },
  {
   "cell_type": "markdown",
   "metadata": {},
   "source": [
    "332301 - девушка с гемеопсией (слепая на левое поле зрения) 20.04\n",
    "241793, 500116 - Илья 17.04, 24.04\n",
    "620528, 758625 - девушка с депрессией 24.04\n",
    "\n",
    "346921 - дальтоник \n",
    "\n"
   ]
  },
  {
   "cell_type": "markdown",
   "metadata": {},
   "source": [
    "Обнаружено: респонденты чаще ошибаются влево"
   ]
  },
  {
   "cell_type": "code",
   "execution_count": 7,
   "metadata": {},
   "outputs": [],
   "source": [
    "data_f2: list[RowStructure] = []\n",
    "\n",
    "removed_persons = ['332301', '241793', '620528', '758625', '346921']\n",
    "\n",
    "for key in data_f1:\n",
    "    row = data_f1[key]\n",
    "\n",
    "    if row['code'] in removed_persons:\n",
    "        continue\n",
    "\n",
    "    f_row = {\n",
    "        'code': row['code'],\n",
    "        'name': row['uid'],\n",
    "        # 'stroop_test_results': 'yes' if 'stroop_test_results' in row and row['stroop_test_results'] else 'no',\n",
    "        'datetime': datetime.fromtimestamp(row['datetime']['seconds']).strftime(\"%Y-%m-%d %H:%M:%S\")\n",
    "    }\n",
    "\n",
    "    series = row['gilbert_test_results'][0]\n",
    "\n",
    "    probes_a = []\n",
    "    for probe in series['tests'][1:]:\n",
    "        if probe['correctly']:\n",
    "            probes_a.append(probe['reaction_time'])\n",
    "\n",
    "    reaction = np.mean(probes_a)\n",
    "\n",
    "    f_row['reaction'] = reaction\n",
    "\n",
    "\n",
    "    probes_stroop_a = []\n",
    "\n",
    "    for probe in row['stroop_test_results']:\n",
    "        if not probe['correctly']:\n",
    "            continue\n",
    "        reaction_time = probe['reaction_time']\n",
    "\n",
    "        probes_stroop_a.append(reaction_time)\n",
    "\n",
    "    f_row[\"stroop\"] = np.mean(probes_stroop_a)\n",
    "\n",
    "\n",
    "    index = 1\n",
    "\n",
    "    for series in row['gilbert_test_results'][1:]:\n",
    "\n",
    "        probes_a = []\n",
    "        probes_r = []\n",
    "        probes_l = []\n",
    "\n",
    "        for probe in series['tests'][1:]:\n",
    "            if not probe['correctly']:\n",
    "                continue\n",
    "            reaction_time = probe['reaction_time']\n",
    "            if reaction_time > 1000:\n",
    "                continue\n",
    "\n",
    "            # reaction_time -= reaction\n",
    "\n",
    "            probes_a.append(reaction_time)\n",
    "            if probe['direction'] == 'r':\n",
    "                probes_r.append(reaction_time)\n",
    "            else:\n",
    "                probes_l.append(reaction_time)\n",
    "\n",
    "        key = f\"{colors[series['ground']]}_{series['figure']}_{'in' if 'in' in colors[series['target']] else 'out'}\"\n",
    "\n",
    "        # if len(probes_a) < 11:\n",
    "        #     print(len(probes_a),len(probes_l),len(probes_r))\n",
    "\n",
    "        f_row[f\"{index}_{key}\"] = len(probes_a)\n",
    "        f_row[f\"cL_{key}\"] = len(probes_l)\n",
    "        f_row[f\"cR_{key}\"] = len(probes_r)\n",
    "        f_row[f\"A_{key}\"] = np.mean(probes_a)\n",
    "        f_row[f\"L_{key}\"] = np.mean(probes_l)\n",
    "        f_row[f\"R_{key}\"] = np.mean(probes_r)\n",
    "        f_row[f\"A_std_{key}\"] = np.std(probes_a)\n",
    "        f_row[f\"L_std_{key}\"] = np.std(probes_l)\n",
    "        f_row[f\"R_std_{key}\"] = np.std(probes_r)\n",
    "\n",
    "\n",
    "        index += 1\n",
    "\n",
    "    \n",
    "\n",
    "    # f_row[f\"R_st_count\"] = len(probes_stroop_r)\n",
    "    # f_row[f\"R_st_std\"] = np.std(probes_stroop_r)\n",
    "    # f_row[f\"R_st_mean\"] = np.mean(probes_stroop_r)\n",
    "    # f_row[f\"L_st_count\"] = len(probes_stroop_l)\n",
    "    # f_row[f\"L_st_std\"] = np.std(probes_stroop_l)\n",
    "    # f_row[f\"L_st_mean\"] = np.mean(probes_stroop_l)\n",
    "\n",
    "\n",
    "\n",
    "    data_f2.append(f_row)\n",
    "\n",
    "resp_count = len(data_f2)\n",
    "\n",
    "full_table = pd.DataFrame(data_f2)"
   ]
  },
  {
   "cell_type": "code",
   "execution_count": 8,
   "metadata": {},
   "outputs": [],
   "source": [
    "# tests = data_f1['090088:carefree_alizarin_starfish']['gilbert_test_results'][2]['tests']\n",
    "# pd.DataFrame(tests)\n",
    "\n",
    "# tests = data_f1['392274:foolish_chartreuse_pigeon']['stroop_test_results']\n",
    "# pd.DataFrame(tests)\n"
   ]
  },
  {
   "cell_type": "code",
   "execution_count": 9,
   "metadata": {},
   "outputs": [
    {
     "name": "stdout",
     "output_type": "stream",
     "text": [
      "code 392274\n",
      "name foolish_chartreuse_pigeon\n",
      "datetime 2024-05-22 12:06:50\n",
      "reaction 444.0\n"
     ]
    }
   ],
   "source": [
    "client = data_f2[10]\n",
    "print('code', client['code'])\n",
    "print('name', client['name'])\n",
    "print('datetime', client['datetime'])\n",
    "print('reaction', client['reaction'])\n",
    "\n",
    "\n",
    "# {'in': }\n"
   ]
  },
  {
   "cell_type": "code",
   "execution_count": 10,
   "metadata": {},
   "outputs": [],
   "source": [
    "# full_table"
   ]
  },
  {
   "cell_type": "code",
   "execution_count": 11,
   "metadata": {},
   "outputs": [],
   "source": [
    "full_table.to_csv('table.csv', float_format=\"%.8f\")"
   ]
  },
  {
   "cell_type": "code",
   "execution_count": 12,
   "metadata": {},
   "outputs": [
    {
     "data": {
      "text/plain": [
       "Index(['code', 'name', 'datetime', 'reaction', 'stroop', '1_r_square_in',\n",
       "       'cL_r_square_in', 'cR_r_square_in', 'A_r_square_in', 'L_r_square_in',\n",
       "       ...\n",
       "       'R_std_b_blob_in', '12_b_blob_out', 'cL_b_blob_out', 'cR_b_blob_out',\n",
       "       'A_b_blob_out', 'L_b_blob_out', 'R_b_blob_out', 'A_std_b_blob_out',\n",
       "       'L_std_b_blob_out', 'R_std_b_blob_out'],\n",
       "      dtype='object', length=113)"
      ]
     },
     "execution_count": 12,
     "metadata": {},
     "output_type": "execute_result"
    }
   ],
   "source": [
    "full_table.keys()"
   ]
  },
  {
   "cell_type": "code",
   "execution_count": 13,
   "metadata": {},
   "outputs": [
    {
     "data": {
      "text/plain": [
       "{'reaction': 496.4607843137254,\n",
       " 'A_r_square_in': 526.8663101604278,\n",
       " 'L_r_square_in': 529.3941176470589,\n",
       " 'R_r_square_in': 524.3372549019608,\n",
       " 'A_r_square_out': 543.632219251337,\n",
       " 'L_r_square_out': 545.5333333333334,\n",
       " 'R_r_square_out': 542.1049019607844,\n",
       " 'A_r_heart_in': 508.3089126559714,\n",
       " 'L_r_heart_in': 511.54411764705884,\n",
       " 'R_r_heart_in': 505.1627450980392,\n",
       " 'A_r_heart_out': 531.3533868092693,\n",
       " 'L_r_heart_out': 545.3235294117648,\n",
       " 'R_r_heart_out': 517.9019607843137,\n",
       " 'A_y_square_in': 626.8295454545454,\n",
       " 'L_y_square_in': 623.7460784313726,\n",
       " 'R_y_square_in': 630.927450980392,\n",
       " 'A_y_square_out': 512.4509803921568,\n",
       " 'L_y_square_out': 512.256862745098,\n",
       " 'R_y_square_out': 511.44313725490196,\n",
       " 'A_y_sun_in': 557.816577540107,\n",
       " 'L_y_sun_in': 549.7686274509804,\n",
       " 'R_y_sun_in': 565.2627450980391,\n",
       " 'A_y_sun_out': 509.8712121212121,\n",
       " 'L_y_sun_out': 520.1647058823529,\n",
       " 'R_y_sun_out': 499.62549019607843,\n",
       " 'A_b_square_in': 643.0975341651812,\n",
       " 'L_b_square_in': 651.15,\n",
       " 'R_b_square_in': 641.7039215686274,\n",
       " 'A_b_square_out': 528.5886809269163,\n",
       " 'L_b_square_out': 539.8784313725491,\n",
       " 'R_b_square_out': 518.2549019607843,\n",
       " 'A_b_blob_in': 626.3407605466429,\n",
       " 'L_b_blob_in': 639.1696078431372,\n",
       " 'R_b_blob_in': 611.5735294117648,\n",
       " 'A_b_blob_out': 500.0334224598931,\n",
       " 'L_b_blob_out': 510.6470588235294,\n",
       " 'R_b_blob_out': 490.0313725490196}"
      ]
     },
     "execution_count": 13,
     "metadata": {},
     "output_type": "execute_result"
    }
   ],
   "source": [
    "full_table[['reaction', 'A_r_square_in', 'L_r_square_in',\n",
    "       'R_r_square_in', \n",
    "       'A_r_square_out', 'L_r_square_out', 'R_r_square_out', 'A_r_heart_in', 'L_r_heart_in',\n",
    "       'R_r_heart_in', \n",
    "       'A_r_heart_out', 'L_r_heart_out', 'R_r_heart_out',  'A_y_square_in', 'L_y_square_in',\n",
    "       'R_y_square_in', \n",
    "       'A_y_square_out', 'L_y_square_out', 'R_y_square_out',  'A_y_sun_in', 'L_y_sun_in', 'R_y_sun_in',\n",
    "        'A_y_sun_out',\n",
    "       'L_y_sun_out', 'R_y_sun_out',  'A_b_square_in', 'L_b_square_in', 'R_b_square_in',\n",
    "       'A_b_square_out', 'L_b_square_out', 'R_b_square_out',  'A_b_blob_in', 'L_b_blob_in',\n",
    "       'R_b_blob_in', \n",
    "       'A_b_blob_out', 'L_b_blob_out', 'R_b_blob_out']].mean().to_dict()"
   ]
  },
  {
   "cell_type": "markdown",
   "metadata": {},
   "source": [
    "В всех случаях пиктограммы, в среднем, распознаются лучше!"
   ]
  },
  {
   "cell_type": "markdown",
   "metadata": {},
   "source": [
    "Межкатегориальные распознаются лучше, кроме красного"
   ]
  },
  {
   "cell_type": "markdown",
   "metadata": {},
   "source": [
    "Почти всюду правый глаз быстрее"
   ]
  },
  {
   "cell_type": "code",
   "execution_count": 14,
   "metadata": {},
   "outputs": [
    {
     "data": {
      "text/plain": [
       "array([536.91666667, 564.36363636, 474.83333333, 525.25      ,\n",
       "       500.58333333, 579.75      , 623.66666667, 489.        ,\n",
       "       421.36363636, 543.83333333, 479.58333333, 502.58333333,\n",
       "       491.58333333, 455.33333333, 668.5       , 527.91666667,\n",
       "       571.66666667])"
      ]
     },
     "execution_count": 14,
     "metadata": {},
     "output_type": "execute_result"
    }
   ],
   "source": [
    "full_table['A_r_square_in'].to_numpy()"
   ]
  },
  {
   "cell_type": "code",
   "execution_count": 15,
   "metadata": {},
   "outputs": [],
   "source": [
    "res = np.zeros((3,3,2,2, resp_count))\n",
    "\n",
    "stroop_res = full_table[\"stroop\"].to_numpy()\n",
    "reaction_res = full_table[\"reaction\"].to_numpy()\n",
    "\n",
    "res[0,0,0,0,:] = full_table['A_r_square_in'].to_numpy()\n",
    "res[1,0,0,0,:] = full_table['R_r_square_in'].to_numpy()\n",
    "res[2,0,0,0,:] = full_table['L_r_square_in'].to_numpy()\n",
    "\n",
    "res[0,0,0,1,:] = full_table['A_r_square_out'].to_numpy()\n",
    "res[1,0,0,1,:] = full_table['R_r_square_out'].to_numpy()\n",
    "res[2,0,0,1,:] = full_table['L_r_square_out'].to_numpy()\n",
    "\n",
    "\n",
    "res[0,0,1,0,:] = full_table['A_r_heart_in'].to_numpy()\n",
    "res[1,0,1,0,:] = full_table['R_r_heart_in'].to_numpy()\n",
    "res[2,0,1,0,:] = full_table['L_r_heart_in'].to_numpy()\n",
    "\n",
    "res[0,0,1,1,:] = full_table['A_r_heart_out'].to_numpy()\n",
    "res[1,0,1,1,:] = full_table['R_r_heart_out'].to_numpy()\n",
    "res[2,0,1,1,:] = full_table['L_r_heart_out'].to_numpy()\n",
    "\n",
    "\n",
    "res[0,1,0,0,:] = full_table['A_y_square_in'].to_numpy()\n",
    "res[1,1,0,0,:] = full_table['R_y_square_in'].to_numpy()\n",
    "res[2,1,0,0,:] = full_table['L_y_square_in'].to_numpy()\n",
    "\n",
    "res[0,1,0,1,:] = full_table['A_y_square_out'].to_numpy()\n",
    "res[1,1,0,1,:] = full_table['R_y_square_out'].to_numpy()\n",
    "res[2,1,0,1,:] = full_table['L_y_square_out'].to_numpy()\n",
    "\n",
    "\n",
    "res[0,1,1,0,:] = full_table['A_y_sun_in'].to_numpy()\n",
    "res[1,1,1,0,:] = full_table['R_y_sun_in'].to_numpy()\n",
    "res[2,1,1,0,:] = full_table['L_y_sun_in'].to_numpy()\n",
    "\n",
    "res[0,1,1,1,:] = full_table['A_y_sun_out'].to_numpy()\n",
    "res[1,1,1,1,:] = full_table['R_y_sun_out'].to_numpy()\n",
    "res[2,1,1,1,:] = full_table['L_y_sun_out'].to_numpy()\n",
    "\n",
    "\n",
    "res[0,2,0,0,:] = full_table['A_b_square_in'].to_numpy()\n",
    "res[1,2,0,0,:] = full_table['R_b_square_in'].to_numpy()\n",
    "res[2,2,0,0,:] = full_table['L_b_square_in'].to_numpy()\n",
    "\n",
    "res[0,2,0,1,:] = full_table['A_b_square_out'].to_numpy()\n",
    "res[1,2,0,1,:] = full_table['R_b_square_out'].to_numpy()\n",
    "res[2,2,0,1,:] = full_table['L_b_square_out'].to_numpy()\n",
    "\n",
    "\n",
    "res[0,2,1,0,:] = full_table['A_b_blob_in'].to_numpy()\n",
    "res[1,2,1,0,:] = full_table['R_b_blob_in'].to_numpy()\n",
    "res[2,2,1,0,:] = full_table['L_b_blob_in'].to_numpy()\n",
    "\n",
    "res[0,2,1,1,:] = full_table['A_b_blob_out'].to_numpy()\n",
    "res[1,2,1,1,:] = full_table['R_b_blob_out'].to_numpy()\n",
    "res[2,2,1,1,:] = full_table['L_b_blob_out'].to_numpy()\n",
    "\n",
    "# res[A-L-R, R-Y-B, sq-fg, in-out,:]"
   ]
  },
  {
   "cell_type": "code",
   "execution_count": 16,
   "metadata": {},
   "outputs": [],
   "source": [
    "res_std = np.zeros((3,3,2,2, resp_count))\n",
    "\n",
    "res_std[0,0,0,0,:] = full_table['A_std_r_square_in'].to_numpy()\n",
    "res_std[1,0,0,0,:] = full_table['R_std_r_square_in'].to_numpy()\n",
    "res_std[2,0,0,0,:] = full_table['L_std_r_square_in'].to_numpy()\n",
    "\n",
    "res_std[0,0,0,1,:] = full_table['A_std_r_square_out'].to_numpy()\n",
    "res_std[1,0,0,1,:] = full_table['R_std_r_square_out'].to_numpy()\n",
    "res_std[2,0,0,1,:] = full_table['L_std_r_square_out'].to_numpy()\n",
    "\n",
    "\n",
    "res_std[0,0,1,0,:] = full_table['A_std_r_heart_in'].to_numpy()\n",
    "res_std[1,0,1,0,:] = full_table['R_std_r_heart_in'].to_numpy()\n",
    "res_std[2,0,1,0,:] = full_table['L_std_r_heart_in'].to_numpy()\n",
    "\n",
    "res_std[0,0,1,1,:] = full_table['A_std_r_heart_out'].to_numpy()\n",
    "res_std[1,0,1,1,:] = full_table['R_std_r_heart_out'].to_numpy()\n",
    "res_std[2,0,1,1,:] = full_table['L_std_r_heart_out'].to_numpy()\n",
    "\n",
    "\n",
    "res_std[0,1,0,0,:] = full_table['A_std_y_square_in'].to_numpy()\n",
    "res_std[1,1,0,0,:] = full_table['R_std_y_square_in'].to_numpy()\n",
    "res_std[2,1,0,0,:] = full_table['L_std_y_square_in'].to_numpy()\n",
    "\n",
    "res_std[0,1,0,1,:] = full_table['A_std_y_square_out'].to_numpy()\n",
    "res_std[1,1,0,1,:] = full_table['R_std_y_square_out'].to_numpy()\n",
    "res_std[2,1,0,1,:] = full_table['L_std_y_square_out'].to_numpy()\n",
    "\n",
    "\n",
    "res_std[0,1,1,0,:] = full_table['A_std_y_sun_in'].to_numpy()\n",
    "res_std[1,1,1,0,:] = full_table['R_std_y_sun_in'].to_numpy()\n",
    "res_std[2,1,1,0,:] = full_table['L_std_y_sun_in'].to_numpy()\n",
    "\n",
    "res_std[0,1,1,1,:] = full_table['A_std_y_sun_out'].to_numpy()\n",
    "res_std[1,1,1,1,:] = full_table['R_std_y_sun_out'].to_numpy()\n",
    "res_std[2,1,1,1,:] = full_table['L_std_y_sun_out'].to_numpy()\n",
    "\n",
    "\n",
    "res_std[0,2,0,0,:] = full_table['A_std_b_square_in'].to_numpy()\n",
    "res_std[1,2,0,0,:] = full_table['R_std_b_square_in'].to_numpy()\n",
    "res_std[2,2,0,0,:] = full_table['L_std_b_square_in'].to_numpy()\n",
    "\n",
    "res_std[0,2,0,1,:] = full_table['A_std_b_square_out'].to_numpy()\n",
    "res_std[1,2,0,1,:] = full_table['R_std_b_square_out'].to_numpy()\n",
    "res_std[2,2,0,1,:] = full_table['L_std_b_square_out'].to_numpy()\n",
    "\n",
    "\n",
    "res_std[0,2,1,0,:] = full_table['A_std_b_blob_in'].to_numpy()\n",
    "res_std[1,2,1,0,:] = full_table['R_std_b_blob_in'].to_numpy()\n",
    "res_std[2,2,1,0,:] = full_table['L_std_b_blob_in'].to_numpy()\n",
    "\n",
    "res_std[0,2,1,1,:] = full_table['A_std_b_blob_out'].to_numpy()\n",
    "res_std[1,2,1,1,:] = full_table['R_std_b_blob_out'].to_numpy()\n",
    "res_std[2,2,1,1,:] = full_table['L_std_b_blob_out'].to_numpy()"
   ]
  },
  {
   "cell_type": "markdown",
   "metadata": {},
   "source": [
    "Переключаемость внимания влияет на скорость реакции"
   ]
  },
  {
   "cell_type": "code",
   "execution_count": 17,
   "metadata": {},
   "outputs": [
    {
     "data": {
      "text/plain": [
       "array([ 954.625     ,  849.66666667, 1204.95652174,  912.5       ,\n",
       "        739.83333333,  898.60869565, 1073.69565217, 1009.13043478,\n",
       "        623.70833333, 1151.38095238, 1327.        ,  905.875     ,\n",
       "        708.375     ,  863.5       , 1394.70833333, 1824.04545455,\n",
       "        929.04166667])"
      ]
     },
     "execution_count": 17,
     "metadata": {},
     "output_type": "execute_result"
    }
   ],
   "source": [
    "stroop_res"
   ]
  },
  {
   "cell_type": "code",
   "execution_count": 18,
   "metadata": {},
   "outputs": [
    {
     "data": {
      "text/plain": [
       "array([536.91666667, 564.36363636, 474.83333333, 525.25      ,\n",
       "       500.58333333, 579.75      , 623.66666667, 489.        ,\n",
       "       421.36363636, 543.83333333, 479.58333333, 502.58333333,\n",
       "       491.58333333, 455.33333333, 668.5       , 527.91666667,\n",
       "       571.66666667])"
      ]
     },
     "execution_count": 18,
     "metadata": {},
     "output_type": "execute_result"
    }
   ],
   "source": [
    "res[0,0,0,0,:]"
   ]
  },
  {
   "cell_type": "code",
   "execution_count": 19,
   "metadata": {},
   "outputs": [
    {
     "name": "stdout",
     "output_type": "stream",
     "text": [
      "PearsonRResult(statistic=0.5615970308552092, pvalue=0.01897982162415529)\n",
      "PearsonRResult(statistic=0.4745745800750896, pvalue=0.054250614420144685)\n",
      "PearsonRResult(statistic=0.6090866618314407, pvalue=0.009453238511259001)\n"
     ]
    }
   ],
   "source": [
    "\n",
    "print(pearsonr(stroop_res,\n",
    "    (res[0,0,0,0,:]+res[0,0,0,1,:]+res[0,0,1,0,:]+res[0,0,1,1,:]+\n",
    "    res[0,1,0,0,:]+res[0,1,0,1,:]+res[0,1,1,0,:]+res[0,1,1,1,:]+\n",
    "    res[0,2,0,0,:]+res[0,2,0,1,:]+res[0,2,1,0,:]+res[0,2,1,1,:])/12\n",
    "))\n",
    "\n",
    "print(pearsonr(stroop_res,\n",
    "    res[0,0,0,0,:]+res[0,0,0,1,:]+\n",
    "    res[0,1,0,0,:]+res[0,1,0,1,:]+\n",
    "    res[0,2,0,0,:]+res[0,2,0,1,:]\n",
    "))\n",
    "\n",
    "\n",
    "print(pearsonr(stroop_res,\n",
    "    res[0,0,1,0,:]+res[0,0,1,1,:]+\n",
    "    res[0,1,1,0,:]+res[0,1,1,1,:]+\n",
    "    res[0,2,1,0,:]+res[0,2,1,1,:]\n",
    "))\n"
   ]
  },
  {
   "cell_type": "code",
   "execution_count": 20,
   "metadata": {},
   "outputs": [],
   "source": [
    "\n",
    "def tcriteria(a,b):\n",
    "    return {\n",
    "        's': ttest_rel(a,b).statistic,\n",
    "        'w':wilcoxon(a,b).pvalue,\n",
    "        't':ttest_rel(a,b).pvalue,\n",
    "    }\n",
    "\n"
   ]
  },
  {
   "cell_type": "code",
   "execution_count": 42,
   "metadata": {},
   "outputs": [
    {
     "name": "stdout",
     "output_type": "stream",
     "text": [
      "{'s': 4.269690504726968, 'w': 1.438045546282436e-05, 't': 4.4293425861560626e-05}\n",
      "{'s': 3.3936684368563843, 'w': 0.00665283203125, 't': 0.0037093932850901655}\n",
      "{'s': -1.903764120861477, 'w': 0.1323699951171875, 't': 0.07508621649692776}\n",
      "{'s': 11.977644391392257, 'w': 1.52587890625e-05, 't': 2.1137948464969214e-09}\n",
      "{'s': 8.3486316179181, 'w': 1.52587890625e-05, 't': 3.174751750373133e-07}\n"
     ]
    }
   ],
   "source": [
    "\"\"\" право-лево, цвет, кв-фиг, вкат-межкат\"\"\"\n",
    "\n",
    "print(\n",
    "    tcriteria(\n",
    "        res[0,:,0,:,:].flatten(), \n",
    "        res[0,:,1,:,:].flatten()\n",
    "    ),\n",
    ")\n",
    "\n",
    "print(\n",
    "    tcriteria(\n",
    "        res[0,:,0,:,:].mean((0,1)).flatten(), \n",
    "        res[0,:,1,:,:].mean((0,1)).flatten()\n",
    "    ),\n",
    ")\n",
    "\n",
    "print(\n",
    "    tcriteria(\n",
    "        res[0,0,:,0,:].mean(0).flatten(), \n",
    "        res[0,0,:,1,:].mean(0).flatten()\n",
    "    ),\n",
    ")\n",
    "\n",
    "print(\n",
    "    tcriteria(\n",
    "        res[0,1,:,0,:].mean(0).flatten(), \n",
    "        res[0,1,:,1,:].mean(0).flatten()\n",
    "    ),\n",
    ")\n",
    "\n",
    "print(\n",
    "    tcriteria(\n",
    "        res[0,2,:,0,:].mean(0).flatten(), \n",
    "        res[0,2,:,1,:].mean(0).flatten()\n",
    "    ),\n",
    ")\n",
    "\n",
    "\n"
   ]
  },
  {
   "cell_type": "code",
   "execution_count": 41,
   "metadata": {},
   "outputs": [
    {
     "name": "stdout",
     "output_type": "stream",
     "text": [
      "{'s': -3.146036233334566, 'w': 0.007904052734375, 't': 0.006246938333624241}\n"
     ]
    }
   ],
   "source": [
    "\"\"\" право-лево, цвет, кв-фиг, вкат-межкат\"\"\"\n",
    "\n",
    "print(\n",
    "    tcriteria(\n",
    "        res[1,:,1,:].mean((0,1)).flatten(), \n",
    "        res[2,:,1,:].mean((0,1)).flatten()\n",
    "    ),\n",
    ")\n",
    "\n",
    "\n",
    "# print(\n",
    "#     tcriteria(\n",
    "#         res[1,:,:,0].flatten(), \n",
    "#         res[2,:,:,1].flatten()\n",
    "#     ),\n",
    "# )\n",
    "\n",
    "\n",
    "# print(\n",
    "#     tcriteria(\n",
    "#         res[1,:,:,0].flatten(), \n",
    "#         res[2,:,:,1].flatten()\n",
    "#     ),\n",
    "# )\n"
   ]
  },
  {
   "cell_type": "code",
   "execution_count": 23,
   "metadata": {},
   "outputs": [
    {
     "data": {
      "text/plain": [
       "array([[526.86631016, 543.63221925],\n",
       "       [626.82954545, 512.45098039],\n",
       "       [643.09753417, 528.58868093]])"
      ]
     },
     "execution_count": 23,
     "metadata": {},
     "output_type": "execute_result"
    }
   ],
   "source": [
    "np.mean(res[0,:,0,:], axis=(-1))"
   ]
  },
  {
   "cell_type": "code",
   "execution_count": 24,
   "metadata": {},
   "outputs": [
    {
     "data": {
      "text/plain": [
       "<matplotlib.legend.Legend at 0x7b6efc68ab90>"
      ]
     },
     "execution_count": 24,
     "metadata": {},
     "output_type": "execute_result"
    },
    {
     "data": {
      "image/png": "[encoded data removed]",
      "text/plain": [
       "<Figure size 640x480 with 1 Axes>"
      ]
     },
     "metadata": {},
     "output_type": "display_data"
    }
   ],
   "source": [
    "\"\"\" право-лево, цвет, кв-фиг, вкат-межкат\"\"\"\n",
    "\n",
    "cols_names = ['кр вк', 'кр мк', 'жл вк', 'жл мк', 'сн вк', 'ск мк']\n",
    "\n",
    "color = 2\n",
    "values_mean_l = np.mean(res[0,:,0,:], axis=(-1)).flatten()\n",
    "values_std_l = np.std(  res[0,:,0,:], axis=(-1)).flatten()\n",
    "\n",
    "values_mean_r = np.mean(res[0,:,1,:], axis=(-1)).flatten()\n",
    "values_std_r = np.std(  res[0,:,1,:], axis=(-1)).flatten()\n",
    "\n",
    "width = 0.3\n",
    "x = np.arange(len(cols_names))\n",
    "\n",
    "fig, ax = plt.subplots()\n",
    "rects1 = ax.bar(x - width/2, values_mean_l, width, yerr=values_std_l, error_kw={'ecolor':'0.1','capsize':6}, label='Квадраты')\n",
    "rects2 = ax.bar(x + width/2, values_mean_r, width, yerr=values_std_r, error_kw={'ecolor':'0.1','capsize':6}, label='Фигуры')\n",
    "ax.set_title('Время реакции (квадраты/фигуры)')\n",
    "ax.set_xticks(x)\n",
    "ax.set_xticklabels(cols_names)\n",
    "ax.legend()"
   ]
  },
  {
   "cell_type": "code",
   "execution_count": 25,
   "metadata": {},
   "outputs": [
    {
     "data": {
      "text/plain": [
       "<matplotlib.legend.Legend at 0x7b6efa2a5390>"
      ]
     },
     "execution_count": 25,
     "metadata": {},
     "output_type": "execute_result"
    },
    {
     "data": {
      "image/png": "[encoded data removed]",
      "text/plain": [
       "<Figure size 640x480 with 1 Axes>"
      ]
     },
     "metadata": {},
     "output_type": "display_data"
    }
   ],
   "source": [
    "\"\"\" право-лево, цвет, кв-фиг, вкат-межкат\"\"\"\n",
    "\n",
    "cols_names = ['кр кв', 'кр фг', 'жл кв', 'жл фг', 'сн кв', 'сн фг']\n",
    "\n",
    "color = 2\n",
    "values_mean_l = np.mean(res[2,:,:,0], axis=(-1)).flatten()\n",
    "values_std_l = np.std(  res[2,:,:,0], axis=(-1)).flatten()\n",
    "\n",
    "values_mean_r = np.mean(res[2,:,:,1], axis=(-1)).flatten()\n",
    "values_std_r = np.std(  res[2,:,:,1], axis=(-1)).flatten()\n",
    "\n",
    "width = 0.3\n",
    "x = np.arange(len(cols_names))\n",
    "\n",
    "fig, ax = plt.subplots()\n",
    "rects1 = ax.bar(x - width/2, values_mean_l, width, yerr=values_std_l, error_kw={'ecolor':'0.1','capsize':6}, label='Внутикатегориальные')\n",
    "rects2 = ax.bar(x + width/2, values_mean_r, width, yerr=values_std_r, error_kw={'ecolor':'0.1','capsize':6}, label='Межкатгориальные')\n",
    "ax.set_title('Время реакции (внутри/меж-категориальные цвета) левый')\n",
    "ax.set_xticks(x)\n",
    "ax.set_xticklabels(cols_names)\n",
    "ax.legend()"
   ]
  },
  {
   "cell_type": "code",
   "execution_count": 26,
   "metadata": {},
   "outputs": [
    {
     "name": "stdout",
     "output_type": "stream",
     "text": [
      "[511.54411765 545.32352941 549.76862745 520.16470588 639.16960784\n",
      " 510.64705882]\n",
      "[505.1627451  517.90196078 565.2627451  499.6254902  611.57352941\n",
      " 490.03137255]\n"
     ]
    },
    {
     "data": {
      "text/plain": [
       "<matplotlib.legend.Legend at 0x7b6efa36fd30>"
      ]
     },
     "execution_count": 26,
     "metadata": {},
     "output_type": "execute_result"
    },
    {
     "data": {
      "image/png": "[encoded data removed]",
      "text/plain": [
       "<Figure size 640x480 with 1 Axes>"
      ]
     },
     "metadata": {},
     "output_type": "display_data"
    }
   ],
   "source": [
    "\"\"\" право-лево, цвет, кв-фиг, вкат-межкат\"\"\"\n",
    "\n",
    "cols_names = [\n",
    "    'кр вк','кр мк',\n",
    "    'жл вк','жл мк', \n",
    "    'сн вк', 'сн мк']\n",
    "\n",
    "color = 2\n",
    "values_mean_l = np.mean(res[2,:,1,:], axis=(-1)).flatten()\n",
    "values_std_l = np.std(  res[2,:,1,:], axis=(-1)).flatten()\n",
    "\n",
    "values_mean_r = np.mean(res[1,:,1,:], axis=(-1)).flatten()\n",
    "values_std_r = np.std(  res[1,:,1,:], axis=(-1)).flatten()\n",
    "\n",
    "print(values_mean_l )\n",
    "print(values_mean_r)\n",
    "\n",
    "width = 0.3\n",
    "x = np.arange(len(cols_names))\n",
    "\n",
    "fig, ax = plt.subplots()\n",
    "rects1 = ax.bar(x - width/2, values_mean_l, width, yerr=values_std_l,  error_kw={'ecolor':'0.1','capsize':6}, label='Левое')\n",
    "rects2 = ax.bar(x + width/2, values_mean_r, width, yerr=values_std_r, error_kw={'ecolor':'0.1','capsize':6}, label='Правое')\n",
    "ax.set_title('Время реакции (левое/правое поле зрения)')\n",
    "ax.set_xticks(x)\n",
    "ax.set_xticklabels(cols_names)\n",
    "ax.legend()"
   ]
  },
  {
   "cell_type": "code",
   "execution_count": 27,
   "metadata": {},
   "outputs": [
    {
     "data": {
      "text/plain": [
       "<matplotlib.legend.Legend at 0x7b6ef999f7f0>"
      ]
     },
     "execution_count": 27,
     "metadata": {},
     "output_type": "execute_result"
    },
    {
     "data": {
      "image/png": "[encoded data removed]",
      "text/plain": [
       "<Figure size 640x480 with 1 Axes>"
      ]
     },
     "metadata": {},
     "output_type": "display_data"
    }
   ],
   "source": [
    "\"\"\" право-лево, цвет, кв-фиг, вкат-межкат\"\"\"\n",
    "\n",
    "cols_names = [\n",
    "    'красный','жетлый',\n",
    "    'синий']\n",
    "\n",
    "color = 2\n",
    "values_mean_l = np.mean(res[2,:,0,1], axis=(-1)).flatten()\n",
    "values_std_l = np.std(  res[2,:,0,1], axis=(-1)).flatten()\n",
    "\n",
    "values_mean_r = np.mean(res[1,:,0,1], axis=(-1)).flatten()\n",
    "values_std_r = np.std(  res[1,:,0,1], axis=(-1)).flatten()\n",
    "\n",
    "width = 0.3\n",
    "x = np.arange(len(cols_names))\n",
    "\n",
    "fig, ax = plt.subplots()\n",
    "rects1 = ax.bar(x - width/2, values_mean_l, width, yerr=values_std_l,  error_kw={'ecolor':'0.1','capsize':6}, label='Левое поле')\n",
    "rects2 = ax.bar(x + width/2, values_mean_r, width, yerr=values_std_r, error_kw={'ecolor':'0.1','capsize':6}, label='Правое поле')\n",
    "ax.set_title('Время реакции (межкатегориальные квадраты)')\n",
    "ax.set_xticks(x)\n",
    "ax.set_xticklabels(cols_names)\n",
    "ax.legend()"
   ]
  },
  {
   "cell_type": "code",
   "execution_count": 28,
   "metadata": {},
   "outputs": [
    {
     "name": "stdout",
     "output_type": "stream",
     "text": [
      "Межкатегор и внутрикатегор {'s': -2.3374691637938385, 'w': 0.04101129696419458, 't': 0.02345890023041717}\n"
     ]
    }
   ],
   "source": [
    "print(\n",
    "    'Межкатегор и внутрикатегор',\n",
    "    tcriteria(\n",
    "        res[1,:,:,:].mean(axis=(1,2)).flatten(), \n",
    "        res[2,:,:,:].mean(axis=(1,2)).flatten()\n",
    "    )\n",
    ")\n"
   ]
  },
  {
   "cell_type": "code",
   "execution_count": 29,
   "metadata": {},
   "outputs": [
    {
     "name": "stdout",
     "output_type": "stream",
     "text": [
      "WilcoxonResult(statistic=2020.0, pvalue=0.04290726989635228) TtestResult(statistic=-2.35265666934869, pvalue=0.02057826418325994, df=101)\n"
     ]
    }
   ],
   "source": [
    "\n",
    "print(\n",
    "    wilcoxon(\n",
    "        res[1,:,:,:].mean(axis=(1)).flatten(), \n",
    "        res[2,:,:,:].mean(axis=(1)).flatten()\n",
    "    ),\n",
    "    ttest_rel(\n",
    "        res[1,:,:,:].mean(axis=(1)).flatten(), \n",
    "        res[2,:,:,:].mean(axis=(1)).flatten()\n",
    "    ),\n",
    ")"
   ]
  },
  {
   "cell_type": "code",
   "execution_count": 30,
   "metadata": {},
   "outputs": [
    {
     "name": "stdout",
     "output_type": "stream",
     "text": [
      "категор в левом на красном WilcoxonResult(statistic=8572.5, pvalue=0.03361566651239679)\n",
      "категор в правом на красном WilcoxonResult(statistic=226.0, pvalue=0.22799336758907884) TtestResult(statistic=-2.2517528815045322, pvalue=0.03111509064921544, df=33)\n",
      "категор в левом на желтом WilcoxonResult(statistic=0.0, pvalue=1.1641532182693481e-10) TtestResult(statistic=10.000910714499106, pvalue=1.615283505858155e-11, df=33)\n",
      "категор в правом на желтом WilcoxonResult(statistic=40.0, pvalue=1.009204424917698e-06) TtestResult(statistic=5.980230724441215, pvalue=1.0224636160614244e-06, df=33)\n",
      "категор в левом на синем WilcoxonResult(statistic=9.0, pvalue=3.841705620288849e-09)\n",
      "категор в правом на синем WilcoxonResult(statistic=32.0, pvalue=3.2188836485147476e-07)\n"
     ]
    },
    {
     "data": {
      "text/plain": [
       "<function scipy.stats._stats_py.ttest_rel(a, b, axis=0, nan_policy='propagate', alternative='two-sided', *, keepdims=False)>"
      ]
     },
     "execution_count": 30,
     "metadata": {},
     "output_type": "execute_result"
    }
   ],
   "source": [
    "\n",
    "print(\n",
    "    'категор в левом на красном',\n",
    "    wilcoxon(\n",
    "        res[1,:,:,:,:].flatten(), \n",
    "        res[2,:,:,:,:].flatten()\n",
    "    ),\n",
    ")\n",
    "\n",
    "print(\n",
    "    'категор в правом на красном',\n",
    "    wilcoxon(\n",
    "        res[1,0,:,0,:].flatten(), \n",
    "        res[1,0,:,1,:].flatten()\n",
    "    ),\n",
    "    ttest_rel(\n",
    "        res[2,0,:,0,:].flatten(), \n",
    "        res[2,0,:,1,:].flatten()\n",
    "    ),\n",
    ")\n",
    "\n",
    "print(\n",
    "    'категор в левом на желтом',\n",
    "    wilcoxon(\n",
    "        res[1,1,:,0,:].flatten(), \n",
    "        res[1,1,:,1,:].flatten()\n",
    "    ),\n",
    "    ttest_rel(\n",
    "        res[1,1,:,0,:].flatten(), \n",
    "        res[1,1,:,1,:].flatten()\n",
    "    ),\n",
    ")\n",
    "\n",
    "print(\n",
    "    'категор в правом на желтом',\n",
    "    wilcoxon(\n",
    "        res[2,1,:,0,:].flatten(), \n",
    "        res[2,1,:,1,:].flatten()\n",
    "    ),\n",
    "    ttest_rel(\n",
    "        res[2,1,:,0,:].flatten(), \n",
    "        res[2,1,:,1,:].flatten()\n",
    "    ),    \n",
    ")\n",
    "\n",
    "print(\n",
    "    'категор в левом на синем',\n",
    "    wilcoxon(\n",
    "        res[1,2,:,0,:].flatten(), \n",
    "        res[1,2,:,1,:].flatten()\n",
    "    )\n",
    ")\n",
    "\n",
    "print(\n",
    "    'категор в правом на синем',\n",
    "    wilcoxon(\n",
    "        res[2,2,:,1,:].flatten(), \n",
    "        res[2,2,:,0,:].flatten()\n",
    "    )\n",
    ")\n",
    "\n",
    "ttest_rel"
   ]
  },
  {
   "cell_type": "code",
   "execution_count": null,
   "metadata": {},
   "outputs": [],
   "source": []
  }
 ],
 "metadata": {
  "kernelspec": {
   "display_name": "Python 3",
   "language": "python",
   "name": "python3"
  },
  "language_info": {
   "codemirror_mode": {
    "name": "ipython",
    "version": 3
   },
   "file_extension": ".py",
   "mimetype": "text/x-python",
   "name": "python",
   "nbconvert_exporter": "python",
   "pygments_lexer": "ipython3",
   "version": "3.10.12"
  }
 },
 "nbformat": 4,
 "nbformat_minor": 2
}
