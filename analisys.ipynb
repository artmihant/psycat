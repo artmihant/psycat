{
 "cells": [
  {
   "cell_type": "code",
   "execution_count": 38,
   "metadata": {},
   "outputs": [],
   "source": [
    "import json\n",
    "import pandas as pd\n",
    "from typing import TypedDict\n",
    "from datetime import datetime\n",
    "import numpy as np"
   ]
  },
  {
   "cell_type": "code",
   "execution_count": 46,
   "metadata": {},
   "outputs": [
    {
     "data": {
      "text/plain": [
       "33"
      ]
     },
     "execution_count": 46,
     "metadata": {},
     "output_type": "execute_result"
    }
   ],
   "source": [
    "raw_data_json_path = '/home/artem/Projects/Psycat/data.json'\n",
    "with open(raw_data_json_path, 'r') as rf:\n",
    "    data = json.load(rf)\n",
    "\n",
    "len(data.keys())"
   ]
  },
  {
   "cell_type": "code",
   "execution_count": 47,
   "metadata": {},
   "outputs": [],
   "source": [
    "data_f1 = {}\n",
    "\n",
    "for key in data:\n",
    "    if  data[key].get('gilbert_test_passed') == 'yes' \\\n",
    "    and data[key].get('stroop_test_passed') == 'yes' \\\n",
    "    and data[key].get('ishihara_test_passed') == 'yes': \n",
    "        data_f1[key] = data[key]\n"
   ]
  },
  {
   "cell_type": "code",
   "execution_count": 49,
   "metadata": {},
   "outputs": [
    {
     "name": "stdout",
     "output_type": "stream",
     "text": [
      "{'reaction_time': 549, 'answer': 'r', 'direction': 'r', 'position': 3, 'correctly': True}\n"
     ]
    }
   ],
   "source": [
    "class GilbertSeries(TypedDict):\n",
    "    ans_a: int\n",
    "    mean_a: float\n",
    "    std_a: float\n",
    "    mean_r: float\n",
    "    ans_r: float\n",
    "    std_r: float\n",
    "    mean_l: float\n",
    "    ans_l: float\n",
    "    std_l: float\n",
    "    ground: str\n",
    "    target: str\n",
    "    figure: str\n",
    "\n",
    "\n",
    "class StroopSeries(TypedDict):\n",
    "    count_a: int\n",
    "    mean_a: float\n",
    "    std_a: float\n",
    "    count_r: float\n",
    "    mean_r: float\n",
    "    std_r: float\n",
    "    count_l: float\n",
    "    mean_l: float\n",
    "    std_l: float\n",
    "\n",
    "\n",
    "class RowStructure(TypedDict):\n",
    "    code: str\n",
    "    name: str\n",
    "    datetime: datetime\n",
    "    gilbert_test_results: list[GilbertSeries]\n",
    "    stroop_test_results: list[StroopSeries]\n",
    "\n",
    "print(data_f1['069632:bold_wheat_elephant']['gilbert_test_results'][0]['tests'][0])"
   ]
  },
  {
   "cell_type": "code",
   "execution_count": 86,
   "metadata": {},
   "outputs": [],
   "source": [
    "colors = {\n",
    "    '#929292': 'grey',\n",
    "    '#000000': 'black',\n",
    "\n",
    "    'color(display-p3 0.9111 0.2904 0.3331)': 'r',\n",
    "    'color(display-p3 0.8886 0.2848 0.5066)': 'red-in-pink',\n",
    "    'color(display-p3 0.907 0.3246 0.0816)': 'red-out-orange',\n",
    "\n",
    "    'color(display-p3 0.8675 0.7351 0.0446)': 'y',\n",
    "    'color(display-p3 0.9686 0.67 0.1156)': 'yellow-in-orange',\n",
    "    'color(display-p3 0.7347 0.7951 0.2312)': 'yellow-out-green',\n",
    "\n",
    "    'color(display-p3 0.0772 0.7146 0.7601)': 'b',\n",
    "    'color(display-p3 0.2086 0.6784 0.8873)': 'blue-in-violet',\n",
    "    'color(display-p3 0.2336 0.727 0.5989)': 'blue-out-green',\n",
    "\n",
    "}"
   ]
  },
  {
   "cell_type": "markdown",
   "metadata": {},
   "source": [
    "Обнаружено: респонденты чаще ошибаются влево"
   ]
  },
  {
   "cell_type": "code",
   "execution_count": 127,
   "metadata": {},
   "outputs": [],
   "source": [
    "data_f2: list[RowStructure] = []\n",
    "\n",
    "for key in data_f1:\n",
    "    row = data_f1[key]\n",
    "\n",
    "    f_row = {\n",
    "        'code': row['code'],\n",
    "        'name': row['uid'],\n",
    "        'datetime': datetime.fromtimestamp(row['datetime']['seconds']).strftime(\"%Y-%m-%d %H:%M:%S\")\n",
    "    }\n",
    "\n",
    "    series = row['gilbert_test_results'][0]\n",
    "\n",
    "    probes_a = []\n",
    "    for probe in series['tests'][1:]:\n",
    "        if probe['correctly']:\n",
    "            probes_a.append(probe['reaction_time'])\n",
    "\n",
    "    reaction = np.mean(probes_a)\n",
    "\n",
    "    f_row['reaction'] = reaction\n",
    "\n",
    "    index = 1\n",
    "\n",
    "    for series in row['gilbert_test_results'][1:]:\n",
    "\n",
    "        probes_a = []\n",
    "        probes_r = []\n",
    "        probes_l = []\n",
    "\n",
    "        for probe in series['tests'][1:]:\n",
    "            if not probe['correctly']:\n",
    "                continue\n",
    "            reaction_time = probe['reaction_time']\n",
    "            if reaction_time > 1000:\n",
    "                continue\n",
    "\n",
    "            # reaction_time -= reaction\n",
    "\n",
    "            probes_a.append(reaction_time)\n",
    "            if probe['direction'] == 'r':\n",
    "                probes_r.append(reaction_time)\n",
    "            else:\n",
    "                probes_l.append(reaction_time)\n",
    "\n",
    "        key = f\"{colors[series['ground']]}_{series['figure']}_{'in' if 'in' in colors[series['target']] else 'out'}\"\n",
    "\n",
    "        # if len(probes_a) < 11:\n",
    "        #     print(len(probes_a),len(probes_l),len(probes_r))\n",
    "\n",
    "        f_row[f\"{index}_{key}\"] = len(probes_a)\n",
    "        f_row[f\"cL_{key}\"] = len(probes_l)\n",
    "        f_row[f\"cR_{key}\"] = len(probes_r)\n",
    "        f_row[f\"A_{key}\"] = np.mean(probes_a)\n",
    "        f_row[f\"L_{key}\"] = np.mean(probes_l)\n",
    "        f_row[f\"R_{key}\"] = np.mean(probes_r)\n",
    "\n",
    "\n",
    "        index += 1\n",
    "\n",
    "    data_f2.append(f_row)\n",
    "\n",
    "full_table = pd.DataFrame(data_f2)"
   ]
  },
  {
   "cell_type": "code",
   "execution_count": 108,
   "metadata": {},
   "outputs": [],
   "source": [
    "# tests = data_f1['090088:carefree_alizarin_starfish']['gilbert_test_results'][2]['tests']\n",
    "# pd.DataFrame(tests)\n"
   ]
  },
  {
   "cell_type": "code",
   "execution_count": 141,
   "metadata": {},
   "outputs": [
    {
     "data": {
      "text/plain": [
       "{'code': '332301',\n",
       " 'name': 'easygoing_chestnut_antelope',\n",
       " 'datetime': '2024-04-20 17:50:01',\n",
       " 'reaction': 649.6666666666666,\n",
       " '1_r_square_in': 10,\n",
       " 'cL_r_square_in': 4,\n",
       " 'cR_r_square_in': 6,\n",
       " 'A_r_square_in': 695.5,\n",
       " 'L_r_square_in': 768.25,\n",
       " 'R_r_square_in': 647.0,\n",
       " '2_r_square_out': 9,\n",
       " 'cL_r_square_out': 3,\n",
       " 'cR_r_square_out': 6,\n",
       " 'A_r_square_out': 710.5555555555555,\n",
       " 'L_r_square_out': 821.6666666666666,\n",
       " 'R_r_square_out': 655.0,\n",
       " '3_r_heart_in': 11,\n",
       " 'cL_r_heart_in': 5,\n",
       " 'cR_r_heart_in': 6,\n",
       " 'A_r_heart_in': 707.3636363636364,\n",
       " 'L_r_heart_in': 894.2,\n",
       " 'R_r_heart_in': 551.6666666666666,\n",
       " '4_r_heart_out': 8,\n",
       " 'cL_r_heart_out': 3,\n",
       " 'cR_r_heart_out': 5,\n",
       " 'A_r_heart_out': 683.5,\n",
       " 'L_r_heart_out': 780.6666666666666,\n",
       " 'R_r_heart_out': 625.2,\n",
       " '5_y_square_in': 10,\n",
       " 'cL_y_square_in': 4,\n",
       " 'cR_y_square_in': 6,\n",
       " 'A_y_square_in': 660.3,\n",
       " 'L_y_square_in': 745.0,\n",
       " 'R_y_square_in': 603.8333333333334,\n",
       " '6_y_square_out': 11,\n",
       " 'cL_y_square_out': 5,\n",
       " 'cR_y_square_out': 6,\n",
       " 'A_y_square_out': 651.2727272727273,\n",
       " 'L_y_square_out': 780.4,\n",
       " 'R_y_square_out': 543.6666666666666,\n",
       " '7_y_sun_in': 12,\n",
       " 'cL_y_sun_in': 6,\n",
       " 'cR_y_sun_in': 6,\n",
       " 'A_y_sun_in': 619.0,\n",
       " 'L_y_sun_in': 662.0,\n",
       " 'R_y_sun_in': 576.0,\n",
       " '8_y_sun_out': 12,\n",
       " 'cL_y_sun_out': 6,\n",
       " 'cR_y_sun_out': 6,\n",
       " 'A_y_sun_out': 564.4166666666666,\n",
       " 'L_y_sun_out': 649.0,\n",
       " 'R_y_sun_out': 479.8333333333333,\n",
       " '9_b_square_in': 10,\n",
       " 'cL_b_square_in': 5,\n",
       " 'cR_b_square_in': 5,\n",
       " 'A_b_square_in': 652.4,\n",
       " 'L_b_square_in': 649.6,\n",
       " 'R_b_square_in': 655.2,\n",
       " '10_b_square_out': 11,\n",
       " 'cL_b_square_out': 5,\n",
       " 'cR_b_square_out': 6,\n",
       " 'A_b_square_out': 552.3636363636364,\n",
       " 'L_b_square_out': 608.6,\n",
       " 'R_b_square_out': 505.5,\n",
       " '11_b_blob_in': 8,\n",
       " 'cL_b_blob_in': 2,\n",
       " 'cR_b_blob_in': 6,\n",
       " 'A_b_blob_in': 683.75,\n",
       " 'L_b_blob_in': 841.5,\n",
       " 'R_b_blob_in': 631.1666666666666,\n",
       " '12_b_blob_out': 8,\n",
       " 'cL_b_blob_out': 3,\n",
       " 'cR_b_blob_out': 5,\n",
       " 'A_b_blob_out': 702.5,\n",
       " 'L_b_blob_out': 792.3333333333334,\n",
       " 'R_b_blob_out': 648.6}"
      ]
     },
     "execution_count": 141,
     "metadata": {},
     "output_type": "execute_result"
    }
   ],
   "source": [
    "client = data_f2[9]\n",
    "print('code', client['code'])\n",
    "print('name', client['name'])\n",
    "print('datetime', client['datetime'])\n",
    "print('reaction', client['reaction'])\n",
    "\n",
    "\n",
    "{'in': }\n"
   ]
  },
  {
   "cell_type": "code",
   "execution_count": 122,
   "metadata": {},
   "outputs": [],
   "source": [
    "# full_table"
   ]
  },
  {
   "cell_type": "code",
   "execution_count": 128,
   "metadata": {},
   "outputs": [],
   "source": [
    "full_table.to_csv('table.csv', float_format=\"%.8f\")"
   ]
  },
  {
   "cell_type": "code",
   "execution_count": 132,
   "metadata": {},
   "outputs": [
    {
     "data": {
      "text/plain": [
       "Index(['code', 'name', 'datetime', 'reaction', '1_r_square_in',\n",
       "       'cL_r_square_in', 'cR_r_square_in', 'A_r_square_in', 'L_r_square_in',\n",
       "       'R_r_square_in', '2_r_square_out', 'cL_r_square_out', 'cR_r_square_out',\n",
       "       'A_r_square_out', 'L_r_square_out', 'R_r_square_out', '3_r_heart_in',\n",
       "       'cL_r_heart_in', 'cR_r_heart_in', 'A_r_heart_in', 'L_r_heart_in',\n",
       "       'R_r_heart_in', '4_r_heart_out', 'cL_r_heart_out', 'cR_r_heart_out',\n",
       "       'A_r_heart_out', 'L_r_heart_out', 'R_r_heart_out', '5_y_square_in',\n",
       "       'cL_y_square_in', 'cR_y_square_in', 'A_y_square_in', 'L_y_square_in',\n",
       "       'R_y_square_in', '6_y_square_out', 'cL_y_square_out', 'cR_y_square_out',\n",
       "       'A_y_square_out', 'L_y_square_out', 'R_y_square_out', '7_y_sun_in',\n",
       "       'cL_y_sun_in', 'cR_y_sun_in', 'A_y_sun_in', 'L_y_sun_in', 'R_y_sun_in',\n",
       "       '8_y_sun_out', 'cL_y_sun_out', 'cR_y_sun_out', 'A_y_sun_out',\n",
       "       'L_y_sun_out', 'R_y_sun_out', '9_b_square_in', 'cL_b_square_in',\n",
       "       'cR_b_square_in', 'A_b_square_in', 'L_b_square_in', 'R_b_square_in',\n",
       "       '10_b_square_out', 'cL_b_square_out', 'cR_b_square_out',\n",
       "       'A_b_square_out', 'L_b_square_out', 'R_b_square_out', '11_b_blob_in',\n",
       "       'cL_b_blob_in', 'cR_b_blob_in', 'A_b_blob_in', 'L_b_blob_in',\n",
       "       'R_b_blob_in', '12_b_blob_out', 'cL_b_blob_out', 'cR_b_blob_out',\n",
       "       'A_b_blob_out', 'L_b_blob_out', 'R_b_blob_out'],\n",
       "      dtype='object')"
      ]
     },
     "execution_count": 132,
     "metadata": {},
     "output_type": "execute_result"
    }
   ],
   "source": [
    "full_table.keys()"
   ]
  },
  {
   "cell_type": "code",
   "execution_count": 139,
   "metadata": {},
   "outputs": [
    {
     "data": {
      "text/plain": [
       "{'reaction': 495.8083333333333,\n",
       " 'A_r_square_in': 541.4565151515151,\n",
       " 'L_r_square_in': 546.7458333333333,\n",
       " 'R_r_square_in': 537.1783333333334,\n",
       " '2_r_square_out': 11.45,\n",
       " 'cL_r_square_out': 5.65,\n",
       " 'cR_r_square_out': 5.8,\n",
       " 'A_r_square_out': 548.818952020202,\n",
       " 'L_r_square_out': 554.545,\n",
       " 'R_r_square_out': 546.3141666666668,\n",
       " '3_r_heart_in': 11.45,\n",
       " 'cL_r_heart_in': 5.55,\n",
       " 'cR_r_heart_in': 5.9,\n",
       " 'A_r_heart_in': 518.1394696969699,\n",
       " 'L_r_heart_in': 530.005,\n",
       " 'R_r_heart_in': 507.92999999999995,\n",
       " '4_r_heart_out': 11.6,\n",
       " 'cL_r_heart_out': 5.65,\n",
       " 'cR_r_heart_out': 5.95,\n",
       " 'A_r_heart_out': 536.7473484848485,\n",
       " 'L_r_heart_out': 555.8033333333333,\n",
       " 'R_r_heart_out': 520.2683333333333,\n",
       " '5_y_square_in': 10.9,\n",
       " 'cL_y_square_in': 5.3,\n",
       " 'cR_y_square_in': 5.6,\n",
       " 'A_y_square_in': 631.6871590909091,\n",
       " 'L_y_square_in': 633.4675,\n",
       " 'R_y_square_in': 632.18,\n",
       " '6_y_square_out': 11.65,\n",
       " 'cL_y_square_out': 5.7,\n",
       " 'cR_y_square_out': 5.95,\n",
       " 'A_y_square_out': 530.9024999999999,\n",
       " 'L_y_square_out': 535.2924999999999,\n",
       " 'R_y_square_out': 525.7466666666667,\n",
       " '7_y_sun_in': 11.45,\n",
       " 'cL_y_sun_in': 5.75,\n",
       " 'cR_y_sun_in': 5.7,\n",
       " 'A_y_sun_in': 567.0046464646464,\n",
       " 'L_y_sun_in': 560.15,\n",
       " 'R_y_sun_in': 573.9108333333334,\n",
       " '8_y_sun_out': 11.75,\n",
       " 'cL_y_sun_out': 5.9,\n",
       " 'cR_y_sun_out': 5.85,\n",
       " 'A_y_sun_out': 518.2272727272727,\n",
       " 'L_y_sun_out': 529.64,\n",
       " 'R_y_sun_out': 506.92500000000007,\n",
       " '9_b_square_in': 9.65,\n",
       " 'cL_b_square_in': 4.85,\n",
       " 'cR_b_square_in': 4.8,\n",
       " 'A_b_square_in': 641.8523989898989,\n",
       " 'L_b_square_in': 649.2841666666666,\n",
       " 'R_b_square_in': 640.6291666666666,\n",
       " '10_b_square_out': 11.65,\n",
       " 'cL_b_square_out': 5.8,\n",
       " 'cR_b_square_out': 5.85,\n",
       " 'A_b_square_out': 529.4992424242425,\n",
       " 'L_b_square_out': 542.3866666666667,\n",
       " 'R_b_square_out': 517.455,\n",
       " '11_b_blob_in': 10.15,\n",
       " 'cL_b_blob_in': 5.05,\n",
       " 'cR_b_blob_in': 5.1,\n",
       " 'A_b_blob_in': 632.7363131313131,\n",
       " 'L_b_blob_in': 653.7233333333334,\n",
       " 'R_b_blob_in': 615.7625,\n",
       " '12_b_blob_out': 11.75,\n",
       " 'cL_b_blob_out': 5.85,\n",
       " 'cR_b_blob_out': 5.9,\n",
       " 'A_b_blob_out': 513.0909090909091,\n",
       " 'L_b_blob_out': 526.325,\n",
       " 'R_b_blob_out': 502.17333333333335}"
      ]
     },
     "execution_count": 139,
     "metadata": {},
     "output_type": "execute_result"
    }
   ],
   "source": [
    "full_table[['reaction', 'A_r_square_in', 'L_r_square_in',\n",
    "       'R_r_square_in', '2_r_square_out', 'cL_r_square_out', 'cR_r_square_out',\n",
    "       'A_r_square_out', 'L_r_square_out', 'R_r_square_out', '3_r_heart_in',\n",
    "       'cL_r_heart_in', 'cR_r_heart_in', 'A_r_heart_in', 'L_r_heart_in',\n",
    "       'R_r_heart_in', '4_r_heart_out', 'cL_r_heart_out', 'cR_r_heart_out',\n",
    "       'A_r_heart_out', 'L_r_heart_out', 'R_r_heart_out', '5_y_square_in',\n",
    "       'cL_y_square_in', 'cR_y_square_in', 'A_y_square_in', 'L_y_square_in',\n",
    "       'R_y_square_in', '6_y_square_out', 'cL_y_square_out', 'cR_y_square_out',\n",
    "       'A_y_square_out', 'L_y_square_out', 'R_y_square_out', '7_y_sun_in',\n",
    "       'cL_y_sun_in', 'cR_y_sun_in', 'A_y_sun_in', 'L_y_sun_in', 'R_y_sun_in',\n",
    "       '8_y_sun_out', 'cL_y_sun_out', 'cR_y_sun_out', 'A_y_sun_out',\n",
    "       'L_y_sun_out', 'R_y_sun_out', '9_b_square_in', 'cL_b_square_in',\n",
    "       'cR_b_square_in', 'A_b_square_in', 'L_b_square_in', 'R_b_square_in',\n",
    "       '10_b_square_out', 'cL_b_square_out', 'cR_b_square_out',\n",
    "       'A_b_square_out', 'L_b_square_out', 'R_b_square_out', '11_b_blob_in',\n",
    "       'cL_b_blob_in', 'cR_b_blob_in', 'A_b_blob_in', 'L_b_blob_in',\n",
    "       'R_b_blob_in', '12_b_blob_out', 'cL_b_blob_out', 'cR_b_blob_out',\n",
    "       'A_b_blob_out', 'L_b_blob_out', 'R_b_blob_out']].mean().to_dict()"
   ]
  },
  {
   "cell_type": "markdown",
   "metadata": {},
   "source": [
    "В всех случаях пиктограммы, в среднем, распознаются лучше!"
   ]
  },
  {
   "cell_type": "markdown",
   "metadata": {},
   "source": [
    "Межкатегориальные распознаются лучше, кроме красного"
   ]
  },
  {
   "cell_type": "markdown",
   "metadata": {},
   "source": [
    "Почти всюду правый глаз быстрее"
   ]
  },
  {
   "cell_type": "markdown",
   "metadata": {},
   "source": []
  },
  {
   "cell_type": "code",
   "execution_count": null,
   "metadata": {},
   "outputs": [],
   "source": []
  },
  {
   "cell_type": "code",
   "execution_count": null,
   "metadata": {},
   "outputs": [],
   "source": []
  },
  {
   "cell_type": "code",
   "execution_count": null,
   "metadata": {},
   "outputs": [],
   "source": []
  }
 ],
 "metadata": {
  "kernelspec": {
   "display_name": "Python 3",
   "language": "python",
   "name": "python3"
  },
  "language_info": {
   "codemirror_mode": {
    "name": "ipython",
    "version": 3
   },
   "file_extension": ".py",
   "mimetype": "text/x-python",
   "name": "python",
   "nbconvert_exporter": "python",
   "pygments_lexer": "ipython3",
   "version": "3.10.12"
  }
 },
 "nbformat": 4,
 "nbformat_minor": 2
}
